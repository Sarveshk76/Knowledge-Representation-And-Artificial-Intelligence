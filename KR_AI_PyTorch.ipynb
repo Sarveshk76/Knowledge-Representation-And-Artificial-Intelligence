{
  "nbformat": 4,
  "nbformat_minor": 0,
  "metadata": {
    "colab": {
      "name": "KR_AI_PyTorch.ipynb",
      "provenance": [],
      "collapsed_sections": []
    },
    "kernelspec": {
      "name": "python3",
      "display_name": "Python 3"
    },
    "language_info": {
      "name": "python"
    }
  },
  "cells": [
    {
      "cell_type": "code",
      "execution_count": null,
      "metadata": {
        "colab": {
          "base_uri": "https://localhost:8080/",
          "height": 36
        },
        "id": "LJJRQh4aI6uG",
        "outputId": "5a08b044-ee97-49af-9d80-be2fb306ecfb"
      },
      "outputs": [
        {
          "output_type": "execute_result",
          "data": {
            "text/plain": [
              "'1.10.0+cu111'"
            ],
            "application/vnd.google.colaboratory.intrinsic+json": {
              "type": "string"
            }
          },
          "metadata": {},
          "execution_count": 3
        }
      ],
      "source": [
        "import torch\n",
        "torch.__version__"
      ]
    },
    {
      "cell_type": "code",
      "source": [
        "# Creating a  tensor\n",
        "import numpy as np\n",
        "A = np.array([\n",
        "    [[1,2,3],[4,5,6],[7,8,9]],\n",
        "    [[11,12,13],[14,15,16],[17,18,19]],\n",
        "    [[21,22,23],[24,25,26],[27,28,29]]\n",
        "    ])\n",
        "B = np.array([\n",
        "    [[1,2,3],[4,5,6],[7,8,9]],\n",
        "    [[11,12,13],[14,15,16],[17,18,19]],\n",
        "    [[21,22,23],[24,25,26],[27,28,29]]\n",
        "    ])\n",
        "\n",
        "# Tensor addition\n",
        "print('Addition: \\n',A+B)\n",
        "print('Shape: ',(A+B).shape)"
      ],
      "metadata": {
        "colab": {
          "base_uri": "https://localhost:8080/"
        },
        "id": "u0wB0DRbLW7N",
        "outputId": "566f309b-b0d5-4fda-d085-cabc4dda1744"
      },
      "execution_count": null,
      "outputs": [
        {
          "output_type": "stream",
          "name": "stdout",
          "text": [
            "Addition: \n",
            " [[[ 2  4  6]\n",
            "  [ 8 10 12]\n",
            "  [14 16 18]]\n",
            "\n",
            " [[22 24 26]\n",
            "  [28 30 32]\n",
            "  [34 36 38]]\n",
            "\n",
            " [[42 44 46]\n",
            "  [48 50 52]\n",
            "  [54 56 58]]]\n",
            "Shape:  (3, 3, 3)\n"
          ]
        }
      ]
    },
    {
      "cell_type": "code",
      "source": [
        "T1 = torch.tensor(A)\n",
        "T2 = torch.tensor(B)\n",
        "print('Tensor T1: \\n',T1)\n",
        "print('Rank of T!: \\n',len(T1))\n",
        "print('Shape of T!: \\n',T1.shape)"
      ],
      "metadata": {
        "colab": {
          "base_uri": "https://localhost:8080/"
        },
        "id": "deR0GVl7R4Ns",
        "outputId": "78b82785-7d46-4bfb-c8c4-41119c7c20bc"
      },
      "execution_count": null,
      "outputs": [
        {
          "output_type": "stream",
          "name": "stdout",
          "text": [
            "Tensor T1: \n",
            " tensor([[[ 1,  2,  3],\n",
            "         [ 4,  5,  6],\n",
            "         [ 7,  8,  9]],\n",
            "\n",
            "        [[11, 12, 13],\n",
            "         [14, 15, 16],\n",
            "         [17, 18, 19]],\n",
            "\n",
            "        [[21, 22, 23],\n",
            "         [24, 25, 26],\n",
            "         [27, 28, 29]]])\n",
            "Rank of T!: \n",
            " 3\n",
            "Shape of T!: \n",
            " torch.Size([3, 3, 3])\n"
          ]
        }
      ]
    },
    {
      "cell_type": "code",
      "source": [
        "#Creating tensors\n",
        "t1 = [1,2,3,4,5,6]\n",
        "t2 = np.array([1,2,3,4,5,6])\n",
        "\n",
        "t1 = torch.as_tensor(t1)\n",
        "t2 = torch.from_numpy(t2)\n",
        "\n",
        "#Printing tensors\n",
        "print(t1,'\\t',t1.shape)\n",
        "print(t2,'\\t',t2.shape)"
      ],
      "metadata": {
        "colab": {
          "base_uri": "https://localhost:8080/"
        },
        "id": "5kY7XJA8TRfB",
        "outputId": "c8c19100-fa37-4653-cf2a-3c00da4dec2c"
      },
      "execution_count": null,
      "outputs": [
        {
          "output_type": "stream",
          "name": "stdout",
          "text": [
            "tensor([1, 2, 3, 4, 5, 6]) \t torch.Size([6])\n",
            "tensor([1, 2, 3, 4, 5, 6]) \t torch.Size([6])\n"
          ]
        }
      ]
    }
  ]
}